{
 "cells": [
  {
   "cell_type": "markdown",
   "metadata": {},
   "source": [
    "# Scrapy entry sheet contents by using selenium"
   ]
  },
  {
   "cell_type": "code",
   "execution_count": 43,
   "metadata": {
    "collapsed": false
   },
   "outputs": [
    {
     "name": "stdout",
     "output_type": "stream",
     "text": [
      "URL_LIST.csv\n",
      "\n"
     ]
    }
   ],
   "source": [
    "# This Python 3 environment comes with many helpful analytics libraries installed\n",
    "# It is defined by the kaggle/python docker image: https://github.com/kaggle/docker-python\n",
    "# For example, here's several helpful packages to load in \n",
    "\n",
    "import numpy as np # linear algebra\n",
    "import pandas as pd # data processing, CSV file I/O (e.g. pd.read_csv)\n",
    "import time # for time sleeping. time.sleep(1) gets 1.0 seconds sleep.\n",
    "from selenium import webdriver # scraping\n",
    "\n",
    "# Input data files are available in the \"input/\" directory.\n",
    "# For example, running this (by clicking run or pressing Shift+Enter) will list the files in the input directory\n",
    "\n",
    "from subprocess import check_output\n",
    "print(check_output([\"ls\", \"input\"]).decode(\"utf8\"))"
   ]
  },
  {
   "cell_type": "code",
   "execution_count": 44,
   "metadata": {
    "collapsed": false
   },
   "outputs": [],
   "source": [
    "# download chromedriver from https://chromedriver.storage.googleapis.com/index.html?path=2.29/\n",
    "browser = webdriver.Chrome(executable_path='./chromedriver')"
   ]
  },
  {
   "cell_type": "code",
   "execution_count": 45,
   "metadata": {
    "collapsed": false
   },
   "outputs": [
    {
     "data": {
      "text/html": [
       "<div>\n",
       "<table border=\"1\" class=\"dataframe\">\n",
       "  <thead>\n",
       "    <tr style=\"text-align: right;\">\n",
       "      <th></th>\n",
       "      <th>0</th>\n",
       "    </tr>\n",
       "  </thead>\n",
       "  <tbody>\n",
       "    <tr>\n",
       "      <th>0</th>\n",
       "      <td>https://unistyleinc.com/entry_sheets/9114</td>\n",
       "    </tr>\n",
       "    <tr>\n",
       "      <th>1</th>\n",
       "      <td>https://unistyleinc.com/entry_sheets/9088</td>\n",
       "    </tr>\n",
       "    <tr>\n",
       "      <th>2</th>\n",
       "      <td>https://unistyleinc.com/entry_sheets/8816</td>\n",
       "    </tr>\n",
       "    <tr>\n",
       "      <th>3</th>\n",
       "      <td>https://unistyleinc.com/entry_sheets/8363</td>\n",
       "    </tr>\n",
       "    <tr>\n",
       "      <th>4</th>\n",
       "      <td>https://unistyleinc.com/entry_sheets/8353</td>\n",
       "    </tr>\n",
       "  </tbody>\n",
       "</table>\n",
       "</div>"
      ],
      "text/plain": [
       "                                           0\n",
       "0  https://unistyleinc.com/entry_sheets/9114\n",
       "1  https://unistyleinc.com/entry_sheets/9088\n",
       "2  https://unistyleinc.com/entry_sheets/8816\n",
       "3  https://unistyleinc.com/entry_sheets/8363\n",
       "4  https://unistyleinc.com/entry_sheets/8353"
      ]
     },
     "execution_count": 45,
     "metadata": {},
     "output_type": "execute_result"
    }
   ],
   "source": [
    "# load URL list for scraping\n",
    "URL_df = pd.read_csv(\"input/URL_LIST.csv\", header=None)\n",
    "URL_df.head()"
   ]
  },
  {
   "cell_type": "code",
   "execution_count": 46,
   "metadata": {
    "collapsed": false,
    "scrolled": true
   },
   "outputs": [
    {
     "name": "stdout",
     "output_type": "stream",
     "text": [
      "[['https://unistyleinc.com/entry_sheets/9114']\n",
      " ['https://unistyleinc.com/entry_sheets/9088']\n",
      " ['https://unistyleinc.com/entry_sheets/8816']\n",
      " ['https://unistyleinc.com/entry_sheets/8363']\n",
      " ['https://unistyleinc.com/entry_sheets/8353']]\n"
     ]
    }
   ],
   "source": [
    "URL_list = URL_df.values\n",
    "print(URL_list[:5])"
   ]
  },
  {
   "cell_type": "code",
   "execution_count": 47,
   "metadata": {
    "collapsed": true
   },
   "outputs": [],
   "source": [
    "# jump to login page\n",
    "browser.get(URL_list[0][0])\n",
    "time.sleep(1)\n",
    "browser.find_element_by_xpath('//*[@id=\"dldetail_body\"]/div/a[2]').click()\n",
    "time.sleep(1)\n",
    "\n",
    "# login mypage\n",
    "my_id = \"xxxxx\"\n",
    "my_passwd = \"xxxxx\"\n",
    "browser.find_element_by_xpath('//*[@id=\"user_email\"]').send_keys(my_id)\n",
    "browser.find_element_by_xpath('//*[@id=\"user_password\"]').send_keys(my_passwd)\n",
    "browser.find_element_by_xpath('//*[@id=\"new_user\"]/input[3]').click()"
   ]
  },
  {
   "cell_type": "code",
   "execution_count": 48,
   "metadata": {
    "collapsed": true
   },
   "outputs": [],
   "source": [
    "# List for collecting data\n",
    "Contents_List = []\n",
    "for URL in URL_list:\n",
    "    # jump to url\n",
    "    browser.get(URL[0])\n",
    "    time.sleep(1)\n",
    "    # temporary list\n",
    "    v = [URL[0]]\n",
    "    # if there are not answer, error happens.\n",
    "    try:\n",
    "        v.append(browser.find_element_by_xpath(\"/html/body/main/div[2]/div/section/div/div[2]/h1\").text)\n",
    "        v.append(browser.find_element_by_xpath('//*[@id=\"dldetail_body\"]/h3[1]').text)\n",
    "        v.append(browser.find_element_by_xpath('//*[@id=\"dldetail_body\"]/p[2]').text)\n",
    "        v.append(browser.find_element_by_xpath('//*[@id=\"dldetail_body\"]/h3[2]').text)\n",
    "        v.append(browser.find_element_by_xpath('//*[@id=\"dldetail_body\"]/p[5]').text)\n",
    "        v.append(browser.find_element_by_xpath('//*[@id=\"dldetail_body\"]/h3[3]').text)\n",
    "        v.append(browser.find_element_by_xpath('//*[@id=\"dldetail_body\"]/p[8]').text)\n",
    "        v.append(browser.find_element_by_xpath('//*[@id=\"dldetail_body\"]/h3[4]').text)\n",
    "        v.append(browser.find_element_by_xpath('//*[@id=\"dldetail_body\"]/p[11]').text)\n",
    "        v.append(browser.find_element_by_xpath('//*[@id=\"dldetail_body\"]/h3[5]').text)\n",
    "        v.append(browser.find_element_by_xpath('//*[@id=\"dldetail_body\"]/p[14]').text)\n",
    "    except:\n",
    "        pass\n",
    "    Contents_List.append(np.array(v))"
   ]
  },
  {
   "cell_type": "code",
   "execution_count": 49,
   "metadata": {
    "collapsed": false
   },
   "outputs": [],
   "source": [
    "# convert panndas file.\n",
    "extracted = pd.DataFrame(Contents_List)"
   ]
  },
  {
   "cell_type": "code",
   "execution_count": 53,
   "metadata": {
    "collapsed": false,
    "scrolled": false
   },
   "outputs": [
    {
     "data": {
      "text/html": [
       "<div>\n",
       "<table border=\"1\" class=\"dataframe\">\n",
       "  <thead>\n",
       "    <tr style=\"text-align: right;\">\n",
       "      <th></th>\n",
       "      <th>0</th>\n",
       "      <th>1</th>\n",
       "      <th>2</th>\n",
       "      <th>3</th>\n",
       "      <th>4</th>\n",
       "      <th>5</th>\n",
       "      <th>6</th>\n",
       "      <th>7</th>\n",
       "      <th>8</th>\n",
       "      <th>9</th>\n",
       "      <th>10</th>\n",
       "      <th>11</th>\n",
       "    </tr>\n",
       "  </thead>\n",
       "  <tbody>\n",
       "    <tr>\n",
       "      <th>0</th>\n",
       "      <td>https://unistyleinc.com/entry_sheets/9114</td>\n",
       "      <td>エントリーシート（地域社員）</td>\n",
       "      <td>困難に向き合い、乗り越え、実現してきた経験を教えてください。（300字以内）</td>\n",
       "      <td>サークル活動で、小学生４０人にフットサルの指導を２年半行いました。最初は生徒が指導に耳を貸さ...</td>\n",
       "      <td>異なる価値観に影響を受けた経験を教えてください。（300字以内）</td>\n",
       "      <td>フットサル教室において私の発言を生徒に否定された事がありました。ある日、３年生の生徒が、１年...</td>\n",
       "      <td>自ら学び考え、行動した経験を教えてください。（300字以内）</td>\n",
       "      <td>大学から始めたカフェのアルバイトでは、社員さん個々の特徴に合わせて常に気配りする点を変えなが...</td>\n",
       "      <td>他者を巻き込み、リーダーシップを発揮した経験を教えてください。（300字以内）</td>\n",
       "      <td>ボランティアサークルの代表として、学食メニュー販売の売上と寄付金増額に成功した経験です。学食...</td>\n",
       "      <td>三井住友海上を志望する理由を教えてください。（200字以内）</td>\n",
       "      <td>日常の多様なリスクをカバーし、人々の生活を守る事ができる社会貢献性の高い損害保険に魅力を感じ...</td>\n",
       "    </tr>\n",
       "    <tr>\n",
       "      <th>1</th>\n",
       "      <td>https://unistyleinc.com/entry_sheets/9088</td>\n",
       "      <td>エントリーシート（全域社員）</td>\n",
       "      <td>設問1　困難に向き合い、乗り越え、実現してきた経験を教えてください。（300字以内）</td>\n",
       "      <td>「塾講師で大学二年に担当した英語のクラス」秋から担当したクラス６人全員の点数は５０点以下だっ...</td>\n",
       "      <td>設問2　異なる価値観に影響を受けた経験を教えてください。（300字以内）</td>\n",
       "      <td>私が長期インターンをしていた時に出会った同僚の考え方だ。それは物事など、何に対しても「なぜ」...</td>\n",
       "      <td>設問3　自ら学び考え、行動した経験を教えてください。（300字以内）</td>\n",
       "      <td>「ベンチャー企業での４ヵ月の営業インターン」昨年の８月からベンチャー・中小企業に掲載を特化し...</td>\n",
       "      <td>設問4　他者を巻き込み、リーダーシップを発揮した経験を教えてください。（300字以内）</td>\n",
       "      <td>『大学一年から続けているアルバイトの塾講師』中学生の集団の塾講師をしている中で私は、講師全員...</td>\n",
       "      <td>None</td>\n",
       "      <td>None</td>\n",
       "    </tr>\n",
       "    <tr>\n",
       "      <th>2</th>\n",
       "      <td>https://unistyleinc.com/entry_sheets/8816</td>\n",
       "      <td>【内定】エントリーシート（エリア総合職）</td>\n",
       "      <td>困難に向き合い、乗り越え、実現してきた経験を教えてください。(300文字)</td>\n",
       "      <td>ベトナムのある小中学校の教育支援ボランティアの活動において、団体の奨学金制度をより良くするた...</td>\n",
       "      <td>異なる価値観に影響を受けた経験を教えてください。(300文字)</td>\n",
       "      <td>私は第一志望でない大学に入学し、異なる価値観に大きく影響されました。入学当初は悔しさを抱えな...</td>\n",
       "      <td>自ら学び考え、行動した経験を教えてください。(300文字)</td>\n",
       "      <td>塾講師のアルバイトで、強みである「妥協を許さない責任感」を武器に、生徒や仲間から信頼を得てき...</td>\n",
       "      <td>他者を巻き込み、リーダーシップを発揮した経験を教えてください。(300文字)</td>\n",
       "      <td>設問1にて言及したボランティア活動で、団体の奨学金制度を改革しました。11年前の団体発足以来...</td>\n",
       "      <td>三井住友海上を志望する理由を教えてください。(200)</td>\n",
       "      <td>私はボランティアの経験から、多くの人や企業と関わり、その成長をサポートできる損害保険業界を志...</td>\n",
       "    </tr>\n",
       "    <tr>\n",
       "      <th>3</th>\n",
       "      <td>https://unistyleinc.com/entry_sheets/8363</td>\n",
       "      <td>【内定】エントリーシート</td>\n",
       "      <td>困難に向き合い、乗り越え、実現してきた経験を教えてください。（300字以内）</td>\n",
       "      <td>【大学3年時に参加した採用支援会社での長期インターンシップにおいて、就活イベントへの学生集客...</td>\n",
       "      <td>異なる価値観に影響を受けた経験を教えてください。（300字以内）</td>\n",
       "      <td>「協調性」という価値観について、自分の考えが覆った経験です。長期インターン先の社員の方からの...</td>\n",
       "      <td>自ら学び考え、行動した経験を教えてください。（300字以内）</td>\n",
       "      <td>洋菓子屋でのアルバイトの経験を通して、課題に対して自ら行動し解決することの重要性を学びました...</td>\n",
       "      <td>他者を巻き込み、リーダーシップを発揮した経験を教えてください。（300字以内）</td>\n",
       "      <td>採用支援会社での長期インターンシップでの経験です。9人のインターン生チームのリーダーを務めて...</td>\n",
       "      <td>三井住友海上を志望する理由を教えてください。（200字以内）</td>\n",
       "      <td>「企業の挑戦を支え、一緒に新しい変化を生み出していきたい」と考え貴社を志望しました。企業の挑...</td>\n",
       "    </tr>\n",
       "    <tr>\n",
       "      <th>4</th>\n",
       "      <td>https://unistyleinc.com/entry_sheets/8353</td>\n",
       "      <td>【内定】エントリーシート(地域総合職)</td>\n",
       "      <td>困難に向き合い、乗り越え、実現してきた経験を教えてください。</td>\n",
       "      <td>テニスサークルの1・2年代表として新入生退部率の改善に取り組んだ経験です。例年多くの新入生退...</td>\n",
       "      <td>異なる価値観に影響を受けた経験を教えてください。</td>\n",
       "      <td>個別指導塾のアルバイトでの経験で、教室長の価値観に影響を受けました。私にとって理想の講師は中...</td>\n",
       "      <td>あなたが他者を巻き込み、リーダーシップを発揮した経験を教えてください。</td>\n",
       "      <td>上記のテニスサークルにおける勧誘活動改革の過程でリーダーシップを発揮しました。「部員の参加率...</td>\n",
       "      <td>三井住友海上を志望する理由を教えてください。</td>\n",
       "      <td>大学で奨学金の給付を受けている経験から、お金が人の精神面まで支えていることを実感し、金融業界...</td>\n",
       "      <td>None</td>\n",
       "      <td>None</td>\n",
       "    </tr>\n",
       "  </tbody>\n",
       "</table>\n",
       "</div>"
      ],
      "text/plain": [
       "                                          0                     1   \\\n",
       "0  https://unistyleinc.com/entry_sheets/9114        エントリーシート（地域社員）   \n",
       "1  https://unistyleinc.com/entry_sheets/9088        エントリーシート（全域社員）   \n",
       "2  https://unistyleinc.com/entry_sheets/8816  【内定】エントリーシート（エリア総合職）   \n",
       "3  https://unistyleinc.com/entry_sheets/8363          【内定】エントリーシート   \n",
       "4  https://unistyleinc.com/entry_sheets/8353   【内定】エントリーシート(地域総合職)   \n",
       "\n",
       "                                           2   \\\n",
       "0      困難に向き合い、乗り越え、実現してきた経験を教えてください。（300字以内）   \n",
       "1  設問1　困難に向き合い、乗り越え、実現してきた経験を教えてください。（300字以内）   \n",
       "2       困難に向き合い、乗り越え、実現してきた経験を教えてください。(300文字)   \n",
       "3      困難に向き合い、乗り越え、実現してきた経験を教えてください。（300字以内）   \n",
       "4              困難に向き合い、乗り越え、実現してきた経験を教えてください。   \n",
       "\n",
       "                                                  3   \\\n",
       "0  サークル活動で、小学生４０人にフットサルの指導を２年半行いました。最初は生徒が指導に耳を貸さ...   \n",
       "1  「塾講師で大学二年に担当した英語のクラス」秋から担当したクラス６人全員の点数は５０点以下だっ...   \n",
       "2  ベトナムのある小中学校の教育支援ボランティアの活動において、団体の奨学金制度をより良くするた...   \n",
       "3  【大学3年時に参加した採用支援会社での長期インターンシップにおいて、就活イベントへの学生集客...   \n",
       "4  テニスサークルの1・2年代表として新入生退部率の改善に取り組んだ経験です。例年多くの新入生退...   \n",
       "\n",
       "                                     4   \\\n",
       "0      異なる価値観に影響を受けた経験を教えてください。（300字以内）   \n",
       "1  設問2　異なる価値観に影響を受けた経験を教えてください。（300字以内）   \n",
       "2       異なる価値観に影響を受けた経験を教えてください。(300文字)   \n",
       "3      異なる価値観に影響を受けた経験を教えてください。（300字以内）   \n",
       "4              異なる価値観に影響を受けた経験を教えてください。   \n",
       "\n",
       "                                                  5   \\\n",
       "0  フットサル教室において私の発言を生徒に否定された事がありました。ある日、３年生の生徒が、１年...   \n",
       "1  私が長期インターンをしていた時に出会った同僚の考え方だ。それは物事など、何に対しても「なぜ」...   \n",
       "2  私は第一志望でない大学に入学し、異なる価値観に大きく影響されました。入学当初は悔しさを抱えな...   \n",
       "3  「協調性」という価値観について、自分の考えが覆った経験です。長期インターン先の社員の方からの...   \n",
       "4  個別指導塾のアルバイトでの経験で、教室長の価値観に影響を受けました。私にとって理想の講師は中...   \n",
       "\n",
       "                                    6   \\\n",
       "0       自ら学び考え、行動した経験を教えてください。（300字以内）   \n",
       "1   設問3　自ら学び考え、行動した経験を教えてください。（300字以内）   \n",
       "2        自ら学び考え、行動した経験を教えてください。(300文字)   \n",
       "3       自ら学び考え、行動した経験を教えてください。（300字以内）   \n",
       "4  あなたが他者を巻き込み、リーダーシップを発揮した経験を教えてください。   \n",
       "\n",
       "                                                  7   \\\n",
       "0  大学から始めたカフェのアルバイトでは、社員さん個々の特徴に合わせて常に気配りする点を変えなが...   \n",
       "1  「ベンチャー企業での４ヵ月の営業インターン」昨年の８月からベンチャー・中小企業に掲載を特化し...   \n",
       "2  塾講師のアルバイトで、強みである「妥協を許さない責任感」を武器に、生徒や仲間から信頼を得てき...   \n",
       "3  洋菓子屋でのアルバイトの経験を通して、課題に対して自ら行動し解決することの重要性を学びました...   \n",
       "4  上記のテニスサークルにおける勧誘活動改革の過程でリーダーシップを発揮しました。「部員の参加率...   \n",
       "\n",
       "                                            8   \\\n",
       "0      他者を巻き込み、リーダーシップを発揮した経験を教えてください。（300字以内）   \n",
       "1  設問4　他者を巻き込み、リーダーシップを発揮した経験を教えてください。（300字以内）   \n",
       "2       他者を巻き込み、リーダーシップを発揮した経験を教えてください。(300文字)   \n",
       "3      他者を巻き込み、リーダーシップを発揮した経験を教えてください。（300字以内）   \n",
       "4                       三井住友海上を志望する理由を教えてください。   \n",
       "\n",
       "                                                  9   \\\n",
       "0  ボランティアサークルの代表として、学食メニュー販売の売上と寄付金増額に成功した経験です。学食...   \n",
       "1  『大学一年から続けているアルバイトの塾講師』中学生の集団の塾講師をしている中で私は、講師全員...   \n",
       "2  設問1にて言及したボランティア活動で、団体の奨学金制度を改革しました。11年前の団体発足以来...   \n",
       "3  採用支援会社での長期インターンシップでの経験です。9人のインターン生チームのリーダーを務めて...   \n",
       "4  大学で奨学金の給付を受けている経験から、お金が人の精神面まで支えていることを実感し、金融業界...   \n",
       "\n",
       "                               10  \\\n",
       "0  三井住友海上を志望する理由を教えてください。（200字以内）   \n",
       "1                            None   \n",
       "2     三井住友海上を志望する理由を教えてください。(200)   \n",
       "3  三井住友海上を志望する理由を教えてください。（200字以内）   \n",
       "4                            None   \n",
       "\n",
       "                                                  11  \n",
       "0  日常の多様なリスクをカバーし、人々の生活を守る事ができる社会貢献性の高い損害保険に魅力を感じ...  \n",
       "1                                               None  \n",
       "2  私はボランティアの経験から、多くの人や企業と関わり、その成長をサポートできる損害保険業界を志...  \n",
       "3  「企業の挑戦を支え、一緒に新しい変化を生み出していきたい」と考え貴社を志望しました。企業の挑...  \n",
       "4                                               None  "
      ]
     },
     "execution_count": 53,
     "metadata": {},
     "output_type": "execute_result"
    }
   ],
   "source": [
    "extracted.head()"
   ]
  },
  {
   "cell_type": "code",
   "execution_count": 69,
   "metadata": {
    "collapsed": true
   },
   "outputs": [],
   "source": [
    "# fill None by 0 as it's useful to edit in GUI.\n",
    "extracted.fillna(0, inplace=True)"
   ]
  },
  {
   "cell_type": "code",
   "execution_count": 70,
   "metadata": {
    "collapsed": false
   },
   "outputs": [],
   "source": [
    "# save csv\n",
    "extracted.to_csv(\"input/extracted.csv\", encoding=\"utf-8\", index=False)"
   ]
  },
  {
   "cell_type": "markdown",
   "metadata": {
    "collapsed": true
   },
   "source": [
    "These table doesn't match question and answer each row.\n",
    "\n",
    "So I edit and organize this file in GUI by using excel.\n",
    "\n",
    "Then, I create extracted_edited.csv."
   ]
  },
  {
   "cell_type": "code",
   "execution_count": 71,
   "metadata": {
    "collapsed": true
   },
   "outputs": [],
   "source": [
    "# load csv\n",
    "extracted_edited = pd.read_csv(\"input/extracted_edited.csv\", encoding=\"utf-8\", index_col=0)"
   ]
  },
  {
   "cell_type": "code",
   "execution_count": 72,
   "metadata": {
    "collapsed": false
   },
   "outputs": [
    {
     "data": {
      "text/html": [
       "<div>\n",
       "<table border=\"1\" class=\"dataframe\">\n",
       "  <thead>\n",
       "    <tr style=\"text-align: right;\">\n",
       "      <th></th>\n",
       "      <th>0</th>\n",
       "      <th>3</th>\n",
       "      <th>5</th>\n",
       "      <th>7</th>\n",
       "      <th>9</th>\n",
       "      <th>11</th>\n",
       "    </tr>\n",
       "  </thead>\n",
       "  <tbody>\n",
       "    <tr>\n",
       "      <th>0</th>\n",
       "      <td>https://unistyleinc.com/entry_sheets/9114</td>\n",
       "      <td>サークル活動で、小学生４０人にフットサルの指導を２年半行いました。最初は生徒が指導に耳を貸さ...</td>\n",
       "      <td>フットサル教室において私の発言を生徒に否定された事がありました。ある日、３年生の生徒が、１年...</td>\n",
       "      <td>大学から始めたカフェのアルバイトでは、社員さん個々の特徴に合わせて常に気配りする点を変えなが...</td>\n",
       "      <td>ボランティアサークルの代表として、学食メニュー販売の売上と寄付金増額に成功した経験です。学食...</td>\n",
       "      <td>日常の多様なリスクをカバーし、人々の生活を守る事ができる社会貢献性の高い損害保険に魅力を感じ...</td>\n",
       "    </tr>\n",
       "    <tr>\n",
       "      <th>1</th>\n",
       "      <td>https://unistyleinc.com/entry_sheets/9088</td>\n",
       "      <td>「塾講師で大学二年に担当した英語のクラス」秋から担当したクラス６人全員の点数は５０点以下だっ...</td>\n",
       "      <td>私が長期インターンをしていた時に出会った同僚の考え方だ。それは物事など、何に対しても「なぜ」...</td>\n",
       "      <td>「ベンチャー企業での４ヵ月の営業インターン」昨年の８月からベンチャー・中小企業に掲載を特化し...</td>\n",
       "      <td>『大学一年から続けているアルバイトの塾講師』中学生の集団の塾講師をしている中で私は、講師全員...</td>\n",
       "      <td>0</td>\n",
       "    </tr>\n",
       "    <tr>\n",
       "      <th>2</th>\n",
       "      <td>https://unistyleinc.com/entry_sheets/8816</td>\n",
       "      <td>ベトナムのある小中学校の教育支援ボランティアの活動において、団体の奨学金制度をより良くするた...</td>\n",
       "      <td>私は第一志望でない大学に入学し、異なる価値観に大きく影響されました。入学当初は悔しさを抱えな...</td>\n",
       "      <td>塾講師のアルバイトで、強みである「妥協を許さない責任感」を武器に、生徒や仲間から信頼を得てき...</td>\n",
       "      <td>設問1にて言及したボランティア活動で、団体の奨学金制度を改革しました。11年前の団体発足以来...</td>\n",
       "      <td>私はボランティアの経験から、多くの人や企業と関わり、その成長をサポートできる損害保険業界を志...</td>\n",
       "    </tr>\n",
       "    <tr>\n",
       "      <th>3</th>\n",
       "      <td>https://unistyleinc.com/entry_sheets/8363</td>\n",
       "      <td>【大学3年時に参加した採用支援会社での長期インターンシップにおいて、就活イベントへの学生集客...</td>\n",
       "      <td>「協調性」という価値観について、自分の考えが覆った経験です。長期インターン先の社員の方からの...</td>\n",
       "      <td>洋菓子屋でのアルバイトの経験を通して、課題に対して自ら行動し解決することの重要性を学びました...</td>\n",
       "      <td>採用支援会社での長期インターンシップでの経験です。9人のインターン生チームのリーダーを務めて...</td>\n",
       "      <td>「企業の挑戦を支え、一緒に新しい変化を生み出していきたい」と考え貴社を志望しました。企業の挑...</td>\n",
       "    </tr>\n",
       "    <tr>\n",
       "      <th>4</th>\n",
       "      <td>https://unistyleinc.com/entry_sheets/8353</td>\n",
       "      <td>テニスサークルの1・2年代表として新入生退部率の改善に取り組んだ経験です。例年多くの新入生退...</td>\n",
       "      <td>個別指導塾のアルバイトでの経験で、教室長の価値観に影響を受けました。私にとって理想の講師は中...</td>\n",
       "      <td>0</td>\n",
       "      <td>上記のテニスサークルにおける勧誘活動改革の過程でリーダーシップを発揮しました。「部員の参加率...</td>\n",
       "      <td>大学で奨学金の給付を受けている経験から、お金が人の精神面まで支えていることを実感し、金融業界...</td>\n",
       "    </tr>\n",
       "  </tbody>\n",
       "</table>\n",
       "</div>"
      ],
      "text/plain": [
       "                                           0  \\\n",
       "0  https://unistyleinc.com/entry_sheets/9114   \n",
       "1  https://unistyleinc.com/entry_sheets/9088   \n",
       "2  https://unistyleinc.com/entry_sheets/8816   \n",
       "3  https://unistyleinc.com/entry_sheets/8363   \n",
       "4  https://unistyleinc.com/entry_sheets/8353   \n",
       "\n",
       "                                                   3  \\\n",
       "0  サークル活動で、小学生４０人にフットサルの指導を２年半行いました。最初は生徒が指導に耳を貸さ...   \n",
       "1  「塾講師で大学二年に担当した英語のクラス」秋から担当したクラス６人全員の点数は５０点以下だっ...   \n",
       "2  ベトナムのある小中学校の教育支援ボランティアの活動において、団体の奨学金制度をより良くするた...   \n",
       "3  【大学3年時に参加した採用支援会社での長期インターンシップにおいて、就活イベントへの学生集客...   \n",
       "4  テニスサークルの1・2年代表として新入生退部率の改善に取り組んだ経験です。例年多くの新入生退...   \n",
       "\n",
       "                                                   5  \\\n",
       "0  フットサル教室において私の発言を生徒に否定された事がありました。ある日、３年生の生徒が、１年...   \n",
       "1  私が長期インターンをしていた時に出会った同僚の考え方だ。それは物事など、何に対しても「なぜ」...   \n",
       "2  私は第一志望でない大学に入学し、異なる価値観に大きく影響されました。入学当初は悔しさを抱えな...   \n",
       "3  「協調性」という価値観について、自分の考えが覆った経験です。長期インターン先の社員の方からの...   \n",
       "4  個別指導塾のアルバイトでの経験で、教室長の価値観に影響を受けました。私にとって理想の講師は中...   \n",
       "\n",
       "                                                   7  \\\n",
       "0  大学から始めたカフェのアルバイトでは、社員さん個々の特徴に合わせて常に気配りする点を変えなが...   \n",
       "1  「ベンチャー企業での４ヵ月の営業インターン」昨年の８月からベンチャー・中小企業に掲載を特化し...   \n",
       "2  塾講師のアルバイトで、強みである「妥協を許さない責任感」を武器に、生徒や仲間から信頼を得てき...   \n",
       "3  洋菓子屋でのアルバイトの経験を通して、課題に対して自ら行動し解決することの重要性を学びました...   \n",
       "4                                                  0   \n",
       "\n",
       "                                                   9  \\\n",
       "0  ボランティアサークルの代表として、学食メニュー販売の売上と寄付金増額に成功した経験です。学食...   \n",
       "1  『大学一年から続けているアルバイトの塾講師』中学生の集団の塾講師をしている中で私は、講師全員...   \n",
       "2  設問1にて言及したボランティア活動で、団体の奨学金制度を改革しました。11年前の団体発足以来...   \n",
       "3  採用支援会社での長期インターンシップでの経験です。9人のインターン生チームのリーダーを務めて...   \n",
       "4  上記のテニスサークルにおける勧誘活動改革の過程でリーダーシップを発揮しました。「部員の参加率...   \n",
       "\n",
       "                                                  11  \n",
       "0  日常の多様なリスクをカバーし、人々の生活を守る事ができる社会貢献性の高い損害保険に魅力を感じ...  \n",
       "1                                                  0  \n",
       "2  私はボランティアの経験から、多くの人や企業と関わり、その成長をサポートできる損害保険業界を志...  \n",
       "3  「企業の挑戦を支え、一緒に新しい変化を生み出していきたい」と考え貴社を志望しました。企業の挑...  \n",
       "4  大学で奨学金の給付を受けている経験から、お金が人の精神面まで支えていることを実感し、金融業界...  "
      ]
     },
     "execution_count": 72,
     "metadata": {},
     "output_type": "execute_result"
    }
   ],
   "source": [
    "extracted_edited.head()"
   ]
  },
  {
   "cell_type": "code",
   "execution_count": 74,
   "metadata": {
    "collapsed": false
   },
   "outputs": [
    {
     "name": "stdout",
     "output_type": "stream",
     "text": [
      "<class 'pandas.core.frame.DataFrame'>\n",
      "Int64Index: 76 entries, 0 to 75\n",
      "Data columns (total 6 columns):\n",
      "0     76 non-null object\n",
      "3     76 non-null object\n",
      "5     73 non-null object\n",
      "7     71 non-null object\n",
      "9     52 non-null object\n",
      "11    62 non-null object\n",
      "dtypes: object(6)\n",
      "memory usage: 4.2+ KB\n"
     ]
    }
   ],
   "source": [
    "extracted_edited.replace(\"0\", np.nan, inplace=True)\n",
    "extracted_edited.info()"
   ]
  },
  {
   "cell_type": "markdown",
   "metadata": {},
   "source": [
    "### I get 5 questions entry sheet answer file."
   ]
  }
 ],
 "metadata": {
  "anaconda-cloud": {},
  "kernelspec": {
   "display_name": "Python [Root]",
   "language": "python",
   "name": "Python [Root]"
  },
  "language_info": {
   "codemirror_mode": {
    "name": "ipython",
    "version": 2
   },
   "file_extension": ".py",
   "mimetype": "text/x-python",
   "name": "python",
   "nbconvert_exporter": "python",
   "pygments_lexer": "ipython2",
   "version": "2.7.12"
  }
 },
 "nbformat": 4,
 "nbformat_minor": 0
}
